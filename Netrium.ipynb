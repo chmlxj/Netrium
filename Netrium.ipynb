{
 "cells": [
  {
   "cell_type": "code",
   "execution_count": 11,
   "metadata": {},
   "outputs": [],
   "source": [
    "import Contract\n",
    "import Common\n",
    "import Options\n",
    "import Observable\n",
    "import UnitsDB\n",
    "import Calendar\n",
    "import Swaps\n",
    "import Credit\n",
    "import Observations\n",
    "import Valuation\n",
    "import Interpreter\n",
    "import Prelude hiding (and)\n",
    "{-# LANGUAGE GADTs #-}\n",
    "{-# LANGUAGE OverloadedStrings, ExtendedDefaultRules, ScopedTypeVariables #-}"
   ]
  },
  {
   "cell_type": "code",
   "execution_count": 3,
   "metadata": {
    "collapsed": true
   },
   "outputs": [],
   "source": [
    "underlying sp = (financial quantity usd cash) `and` (financial quantity eur cash)\n",
    "              `and` give (financial (sp * 2 * quantity) gbp cash)\n",
    "quantity = 100\n",
    "usd = Currency \"USD\"\n",
    "eur = Currency \"EUR\"\n",
    "gbp = Currency \"GBP\"\n",
    "cash = CashFlowType \"cash\"\n",
    "exerciseDetails = europeanExercise (date 2018 06 01) strikePrice\n",
    "strikePrice = 0.78"
   ]
  },
  {
   "cell_type": "code",
   "execution_count": 4,
   "metadata": {
    "collapsed": true
   },
   "outputs": [],
   "source": [
    "contract =\n",
    "    option \"opt\" exerciseDetails CallOption emptyOptionAttrs underlying"
   ]
  },
  {
   "cell_type": "code",
   "execution_count": 5,
   "metadata": {},
   "outputs": [
    {
     "data": {
      "text/plain": [
       "When (time == 2018-06-01 00:00:00 UTC) (Or \"opt\" (And (And (Scale 100.0 (One (Financial (Currency \"USD\") (CashFlowType \"cash\") Nothing))) (Scale 100.0 (One (Financial (Currency \"EUR\") (CashFlowType \"cash\") Nothing)))) (Give (Scale ((0.78 * 2.0) * 100.0) (One (Financial (Currency \"GBP\") (CashFlowType \"cash\") Nothing))))) Zero)"
      ]
     },
     "metadata": {},
     "output_type": "display_data"
    }
   ],
   "source": [
    "contract"
   ]
  },
  {
   "cell_type": "code",
   "execution_count": 3,
   "metadata": {
    "collapsed": true
   },
   "outputs": [],
   "source": [
    "underlying = zcb (date 2021 06 01) 100000000 (Currency \"USD\") (CashFlowType \"cash\")"
   ]
  },
  {
   "cell_type": "code",
   "execution_count": 103,
   "metadata": {
    "collapsed": true
   },
   "outputs": [],
   "source": [
    "cparbEvent1 = NamedCond \"cparbEvent1\"\n",
    "cparbEvent2 = NamedCond \"cparbEvent2\"\n",
    "cpardfRate = NamedVal \"cpardfRate\""
   ]
  },
  {
   "cell_type": "code",
   "execution_count": 104,
   "metadata": {
    "collapsed": true
   },
   "outputs": [],
   "source": [
    "cEvents = [(\"Bankruptcy\", True, 'P', 50000000, Currency \"USD\", cparbEvent1),\n",
    "                   (\"Failure to Pay\", False, 'C', 1000000, Currency \"USD\", cparbEvent2) ]"
   ]
  },
  {
   "cell_type": "code",
   "execution_count": 105,
   "metadata": {
    "collapsed": true
   },
   "outputs": [],
   "source": [
    "contract2 = creditDefaultSwap cEvents 1000000 \n",
    "    [date 2019 01 01, date 2020 01 01, date 2021 01 01] (Currency \"USD\") cpardfRate (CashFlowType \"cash\") (90/360) underlying"
   ]
  },
  {
   "cell_type": "code",
   "execution_count": 21,
   "metadata": {},
   "outputs": [
    {
     "data": {
      "text/html": [
       "<style>/* Styles used for the Hoogle display in the pager */\n",
       ".hoogle-doc {\n",
       "display: block;\n",
       "padding-bottom: 1.3em;\n",
       "padding-left: 0.4em;\n",
       "}\n",
       ".hoogle-code {\n",
       "display: block;\n",
       "font-family: monospace;\n",
       "white-space: pre;\n",
       "}\n",
       ".hoogle-text {\n",
       "display: block;\n",
       "}\n",
       ".hoogle-name {\n",
       "color: green;\n",
       "font-weight: bold;\n",
       "}\n",
       ".hoogle-head {\n",
       "font-weight: bold;\n",
       "}\n",
       ".hoogle-sub {\n",
       "display: block;\n",
       "margin-left: 0.4em;\n",
       "}\n",
       ".hoogle-package {\n",
       "font-weight: bold;\n",
       "font-style: italic;\n",
       "}\n",
       ".hoogle-module {\n",
       "font-weight: bold;\n",
       "}\n",
       ".hoogle-class {\n",
       "font-weight: bold;\n",
       "}\n",
       ".get-type {\n",
       "color: green;\n",
       "font-weight: bold;\n",
       "font-family: monospace;\n",
       "display: block;\n",
       "white-space: pre-wrap;\n",
       "}\n",
       ".show-type {\n",
       "color: green;\n",
       "font-weight: bold;\n",
       "font-family: monospace;\n",
       "margin-left: 1em;\n",
       "}\n",
       ".mono {\n",
       "font-family: monospace;\n",
       "display: block;\n",
       "}\n",
       ".err-msg {\n",
       "color: red;\n",
       "font-style: italic;\n",
       "font-family: monospace;\n",
       "white-space: pre;\n",
       "display: block;\n",
       "}\n",
       "#unshowable {\n",
       "color: red;\n",
       "font-weight: bold;\n",
       "}\n",
       ".err-msg.in.collapse {\n",
       "padding-top: 0.7em;\n",
       "}\n",
       ".highlight-code {\n",
       "white-space: pre;\n",
       "font-family: monospace;\n",
       "}\n",
       ".suggestion-warning { \n",
       "font-weight: bold;\n",
       "color: rgb(200, 130, 0);\n",
       "}\n",
       ".suggestion-error { \n",
       "font-weight: bold;\n",
       "color: red;\n",
       "}\n",
       ".suggestion-name {\n",
       "font-weight: bold;\n",
       "}\n",
       "</style><span class='get-type'>Market :: *</span>"
      ],
      "text/plain": [
       "Market :: *"
      ]
     },
     "metadata": {},
     "output_type": "display_data"
    }
   ],
   "source": [
    ":k Market"
   ]
  },
  {
   "cell_type": "code",
   "execution_count": 3,
   "metadata": {},
   "outputs": [
    {
     "data": {
      "text/plain": [
       "False"
      ]
     },
     "metadata": {},
     "output_type": "display_data"
    }
   ],
   "source": [
    "isTrue (date 2018 10 16) (at (date 2018 10 14))"
   ]
  },
  {
   "cell_type": "code",
   "execution_count": 8,
   "metadata": {},
   "outputs": [
    {
     "data": {
      "text/plain": [
       "[[100.0]]"
      ]
     },
     "metadata": {},
     "output_type": "display_data"
    }
   ],
   "source": [
    "take 10 $ unPr $ evalC (simpleModel (date 2017 10 14)) (Currency \"USD\") \n",
    "    (When (at $ date 2018 06 01) (Scale 100 (One (Financial (Currency \"USD\") (CashFlowType \"cash\") Nothing))))"
   ]
  },
  {
   "cell_type": "code",
   "execution_count": 13,
   "metadata": {},
   "outputs": [
    {
     "data": {},
     "metadata": {},
     "output_type": "display_data"
    }
   ],
   "source": [
    ":i disc"
   ]
  },
  {
   "cell_type": "code",
   "execution_count": 7,
   "metadata": {},
   "outputs": [],
   "source": [
    "tempContract =\n",
    "    option \"opt\" exerciseDetails CallOption emptyOptionAttrs underlying\n",
    "\n",
    "  where\n",
    "    -- note that the underlying contract describes *both* what we recieve and\n",
    "    -- how much we pay for it (which depends on the strike price).\n",
    "    -- of course for a vanilla european option the strike price is fixed,\n",
    "    -- but with something like an asian option, it's calculated,\n",
    "    -- which is why here the strike price is a paramater to underlying rather\n",
    "    -- than us just using the 'strikePrice' variable defined below.\n",
    "\n",
    "    underlying sp = physical quantity (mkt gas thm nbp)\n",
    "              `and` give (financial (sp * quantity) gbp cash)\n",
    "    quantity = 10\n",
    "\n",
    "    -- Note also, that this 'sp' (strike price) paramater can be used as the\n",
    "    -- basis for multiple cash flows, e.g. regular payments, rather than just\n",
    "    -- a payment at the time the option is exercised.\n",
    "\n",
    "\n",
    "    -- here we have a barrier condition on a different index to the price of\n",
    "    -- the underlying, the barrier is based on the temperature where as the\n",
    "    -- the underlying is for gas.\n",
    "    temperatureUK = NamedVal \"temperatureUK\"\n",
    "    gas = Commodity \"gas\"\n",
    "    thm = Unit \"thm\"\n",
    "    nbp = Location \"nbp\"\n",
    "    gbp = Currency \"gbp\"\n",
    "    cash = CashFlowType \"cash\"\n",
    "    exerciseDetails =\n",
    "      barrierDownAndIn temperatureUK floorTemp $\n",
    "        europeanExercise (date 2018 06 01) strikePrice\n",
    "\n",
    "    strikePrice = 2.5\n",
    "    floorTemp   = 5 --degrees"
   ]
  },
  {
   "cell_type": "code",
   "execution_count": 8,
   "metadata": {},
   "outputs": [
    {
     "data": {
      "text/plain": [
       "When (temperatureUK <= 5.0) (When (time == 2018-06-01 00:00:00 UTC) (Or \"opt\" (And (Scale 10.0 (One (Physical (Commodity \"gas\") (Unit \"thm\") (Location \"nbp\") Nothing Nothing))) (Give (Scale (2.5 * 10.0) (One (Financial (Currency \"gbp\") (CashFlowType \"cash\") Nothing))))) Zero))"
      ]
     },
     "metadata": {},
     "output_type": "display_data"
    }
   ],
   "source": [
    "tempContract"
   ]
  },
  {
   "cell_type": "code",
   "execution_count": 12,
   "metadata": {},
   "outputs": [
    {
     "data": {},
     "metadata": {},
     "output_type": "display_data"
    }
   ],
   "source": [
    ":i evalObs"
   ]
  },
  {
   "cell_type": "code",
   "execution_count": null,
   "metadata": {
    "collapsed": true
   },
   "outputs": [],
   "source": []
  }
 ],
 "metadata": {
  "kernelspec": {
   "display_name": "Haskell",
   "language": "haskell",
   "name": "haskell"
  },
  "language_info": {
   "codemirror_mode": "ihaskell",
   "file_extension": ".hs",
   "name": "haskell",
   "version": "8.0.2"
  }
 },
 "nbformat": 4,
 "nbformat_minor": 2
}
